{
 "cells": [
  {
   "cell_type": "markdown",
   "metadata": {
    "collapsed": true,
    "deletable": true,
    "editable": true
   },
   "source": [
    "# Image Classification\n",
    "In this project, you'll classify images from the [CIFAR-10 dataset](https://www.cs.toronto.edu/~kriz/cifar.html).  The dataset consists of airplanes, dogs, cats, and other objects. You'll preprocess the images, then train a convolutional neural network on all the samples. The images need to be normalized and the labels need to be one-hot encoded.  You'll get to apply what you learned and build a convolutional, max pooling, dropout, and fully connected layers.  At the end, you'll get to see your neural network's predictions on the sample images.\n",
    "## Get the Data\n",
    "Run the following cell to download the [CIFAR-10 dataset for python](https://www.cs.toronto.edu/~kriz/cifar-10-python.tar.gz)."
   ]
  },
  {
   "cell_type": "code",
   "execution_count": 75,
   "metadata": {
    "collapsed": false,
    "deletable": true,
    "editable": true
   },
   "outputs": [
    {
     "name": "stdout",
     "output_type": "stream",
     "text": [
      "All files found!\n"
     ]
    }
   ],
   "source": [
    "\"\"\"\n",
    "DON'T MODIFY ANYTHING IN THIS CELL THAT IS BELOW THIS LINE\n",
    "\"\"\"\n",
    "from urllib.request import urlretrieve\n",
    "from os.path import isfile, isdir\n",
    "from tqdm import tqdm\n",
    "import problem_unittests as tests\n",
    "import tarfile\n",
    "\n",
    "cifar10_dataset_folder_path = 'cifar-10-batches-py'\n",
    "\n",
    "class DLProgress(tqdm):\n",
    "    last_block = 0\n",
    "\n",
    "    def hook(self, block_num=1, block_size=1, total_size=None):\n",
    "        self.total = total_size\n",
    "        self.update((block_num - self.last_block) * block_size)\n",
    "        self.last_block = block_num\n",
    "\n",
    "if not isfile('cifar-10-python.tar.gz'):\n",
    "    with DLProgress(unit='B', unit_scale=True, miniters=1, desc='CIFAR-10 Dataset') as pbar:\n",
    "        urlretrieve(\n",
    "            'https://www.cs.toronto.edu/~kriz/cifar-10-python.tar.gz',\n",
    "            'cifar-10-python.tar.gz',\n",
    "            pbar.hook)\n",
    "\n",
    "if not isdir(cifar10_dataset_folder_path):\n",
    "    with tarfile.open('cifar-10-python.tar.gz') as tar:\n",
    "        tar.extractall()\n",
    "        tar.close()\n",
    "\n",
    "\n",
    "tests.test_folder_path(cifar10_dataset_folder_path)"
   ]
  },
  {
   "cell_type": "markdown",
   "metadata": {
    "deletable": true,
    "editable": true
   },
   "source": [
    "## Explore the Data\n",
    "The dataset is broken into batches to prevent your machine from running out of memory.  The CIFAR-10 dataset consists of 5 batches, named `data_batch_1`, `data_batch_2`, etc.. Each batch contains the labels and images that are one of the following:\n",
    "* airplane\n",
    "* automobile\n",
    "* bird\n",
    "* cat\n",
    "* deer\n",
    "* dog\n",
    "* frog\n",
    "* horse\n",
    "* ship\n",
    "* truck\n",
    "\n",
    "Understanding a dataset is part of making predictions on the data.  Play around with the code cell below by changing the `batch_id` and `sample_id`. The `batch_id` is the id for a batch (1-5). The `sample_id` is the id for a image and label pair in the batch.\n",
    "\n",
    "Ask yourself \"What are all possible labels?\", \"What is the range of values for the image data?\", \"Are the labels in order or random?\".  Answers to questions like these will help you preprocess the data and end up with better predictions."
   ]
  },
  {
   "cell_type": "code",
   "execution_count": 77,
   "metadata": {
    "collapsed": false,
    "deletable": true,
    "editable": true
   },
   "outputs": [
    {
     "name": "stdout",
     "output_type": "stream",
     "text": [
      "\n",
      "Stats of batch 3:\n",
      "Samples: 10000\n",
      "Label Counts: {0: 994, 1: 1042, 2: 965, 3: 997, 4: 990, 5: 1029, 6: 978, 7: 1015, 8: 961, 9: 1029}\n",
      "First 20 Labels: [8, 5, 0, 6, 9, 2, 8, 3, 6, 2, 7, 4, 6, 9, 0, 0, 7, 3, 7, 2]\n",
      "\n",
      "Example of Image 5:\n",
      "Image - Min Value: 9 Max Value: 255\n",
      "Image - Shape: (32, 32, 3)\n",
      "Label - Label Id: 2 Name: bird\n"
     ]
    },
    {
     "data": {
      "image/png": "[encoded data removed]",
      "text/plain": [
       "<matplotlib.figure.Figure at 0x7f86e0549860>"
      ]
     },
     "metadata": {
      "image/png": {
       "height": 250,
       "width": 253
      }
     },
     "output_type": "display_data"
    }
   ],
   "source": [
    "%matplotlib inline\n",
    "%config InlineBackend.figure_format = 'retina'\n",
    "\n",
    "import helper\n",
    "import numpy as np\n",
    "\n",
    "# Explore the dataset\n",
    "batch_id = 3\n",
    "sample_id = 5\n",
    "helper.display_stats(cifar10_dataset_folder_path, batch_id, sample_id)"
   ]
  },
  {
   "cell_type": "markdown",
   "metadata": {
    "deletable": true,
    "editable": true
   },
   "source": [
    "## Implement Preprocess Functions\n",
    "### Normalize\n",
    "In the cell below, implement the `normalize` function to take in image data, `x`, and return it as a normalized Numpy array. The values should be in the range of 0 to 1, inclusive.  The return object should be the same shape as `x`."
   ]
  },
  {
   "cell_type": "code",
   "execution_count": 78,
   "metadata": {
    "collapsed": false,
    "deletable": true,
    "editable": true
   },
   "outputs": [
    {
     "name": "stdout",
     "output_type": "stream",
     "text": [
      "Tests Passed\n"
     ]
    }
   ],
   "source": [
    "def normalize(x):\n",
    "    \"\"\"\n",
    "    Normalize a list of sample image data in the range of 0 to 1\n",
    "    : x: List of image data.  The image shape is (32, 32, 3)\n",
    "    : return: Numpy array of normalize data\n",
    "    \"\"\"\n",
    "    # TODO: Implement Function\n",
    "    return x/255.0\n",
    "\n",
    "\n",
    "\"\"\"\n",
    "DON'T MODIFY ANYTHING IN THIS CELL THAT IS BELOW THIS LINE\n",
    "\"\"\"\n",
    "tests.test_normalize(normalize)"
   ]
  },
  {
   "cell_type": "markdown",
   "metadata": {
    "deletable": true,
    "editable": true
   },
   "source": [
    "### One-hot encode\n",
    "Just like the previous code cell, you'll be implementing a function for preprocessing.  This time, you'll implement the `one_hot_encode` function. The input, `x`, are a list of labels.  Implement the function to return the list of labels as One-Hot encoded Numpy array.  The possible values for labels are 0 to 9. The one-hot encoding function should return the same encoding for each value between each call to `one_hot_encode`.  Make sure to save the map of encodings outside the function.\n",
    "\n",
    "Hint: Don't reinvent the wheel."
   ]
  },
  {
   "cell_type": "code",
   "execution_count": 79,
   "metadata": {
    "collapsed": false,
    "deletable": true,
    "editable": true
   },
   "outputs": [
    {
     "name": "stdout",
     "output_type": "stream",
     "text": [
      "Tests Passed\n"
     ]
    }
   ],
   "source": [
    "def one_hot_encode(x):\n",
    "    \"\"\"\n",
    "    One hot encode a list of sample labels. Return a one-hot encoded vector for each label.\n",
    "    : x: List of sample Labels\n",
    "    : return: Numpy array of one-hot encoded labels\n",
    "    \"\"\"\n",
    "    # TODO: Implement Function\n",
    "    \n",
    "    return np.eye(10)[x]\n",
    "\n",
    "\n",
    "\n",
    "\"\"\"\n",
    "DON'T MODIFY ANYTHING IN THIS CELL THAT IS BELOW THIS LINE\n",
    "\"\"\"\n",
    "tests.test_one_hot_encode(one_hot_encode)"
   ]
  },
  {
   "cell_type": "markdown",
   "metadata": {
    "deletable": true,
    "editable": true
   },
   "source": [
    "### Randomize Data\n",
    "As you saw from exploring the data above, the order of the samples are randomized.  It doesn't hurt to randomize it again, but you don't need to for this dataset."
   ]
  },
  {
   "cell_type": "markdown",
   "metadata": {
    "deletable": true,
    "editable": true
   },
   "source": [
    "## Preprocess all the data and save it\n",
    "Running the code cell below will preprocess all the CIFAR-10 data and save it to file. The code below also uses 10% of the training data for validation."
   ]
  },
  {
   "cell_type": "code",
   "execution_count": 80,
   "metadata": {
    "collapsed": false,
    "deletable": true,
    "editable": true
   },
   "outputs": [],
   "source": [
    "\"\"\"\n",
    "DON'T MODIFY ANYTHING IN THIS CELL\n",
    "\"\"\"\n",
    "# Preprocess Training, Validation, and Testing Data\n",
    "helper.preprocess_and_save_data(cifar10_dataset_folder_path, normalize, one_hot_encode)"
   ]
  },
  {
   "cell_type": "markdown",
   "metadata": {
    "deletable": true,
    "editable": true
   },
   "source": [
    "# Check Point\n",
    "This is your first checkpoint.  If you ever decide to come back to this notebook or have to restart the notebook, you can start from here.  The preprocessed data has been saved to disk."
   ]
  },
  {
   "cell_type": "code",
   "execution_count": 81,
   "metadata": {
    "collapsed": true,
    "deletable": true,
    "editable": true
   },
   "outputs": [],
   "source": [
    "\"\"\"\n",
    "DON'T MODIFY ANYTHING IN THIS CELL\n",
    "\"\"\"\n",
    "import pickle\n",
    "import problem_unittests as tests\n",
    "import helper\n",
    "\n",
    "# Load the Preprocessed Validation data\n",
    "valid_features, valid_labels = pickle.load(open('preprocess_validation.p', mode='rb'))"
   ]
  },
  {
   "cell_type": "markdown",
   "metadata": {
    "deletable": true,
    "editable": true
   },
   "source": [
    "## Build the network\n",
    "For the neural network, you'll build each layer into a function.  Most of the code you've seen has been outside of functions. To test your code more thoroughly, we require that you put each layer in a function.  This allows us to give you better feedback and test for simple mistakes using our unittests before you submit your project.\n",
    "\n",
    ">**Note:** If you're finding it hard to dedicate enough time for this course each week, we've provided a small shortcut to this part of the project. In the next couple of problems, you'll have the option to use classes from the [TensorFlow Layers](https://www.tensorflow.org/api_docs/python/tf/layers) or [TensorFlow Layers (contrib)](https://www.tensorflow.org/api_guides/python/contrib.layers) packages to build each layer, except the layers you build in the \"Convolutional and Max Pooling Layer\" section.  TF Layers is similar to Keras's and TFLearn's abstraction to layers, so it's easy to pickup.\n",
    "\n",
    ">However, if you would like to get the most out of this course, try to solve all the problems _without_ using anything from the TF Layers packages. You **can** still use classes from other packages that happen to have the same name as ones you find in TF Layers! For example, instead of using the TF Layers version of the `conv2d` class, [tf.layers.conv2d](https://www.tensorflow.org/api_docs/python/tf/layers/conv2d), you would want to use the TF Neural Network version of `conv2d`, [tf.nn.conv2d](https://www.tensorflow.org/api_docs/python/tf/nn/conv2d). \n",
    "\n",
    "Let's begin!\n",
    "\n",
    "### Input\n",
    "The neural network needs to read the image data, one-hot encoded labels, and dropout keep probability. Implement the following functions\n",
    "* Implement `neural_net_image_input`\n",
    " * Return a [TF Placeholder](https://www.tensorflow.org/api_docs/python/tf/placeholder)\n",
    " * Set the shape using `image_shape` with batch size set to `None`.\n",
    " * Name the TensorFlow placeholder \"x\" using the TensorFlow `name` parameter in the [TF Placeholder](https://www.tensorflow.org/api_docs/python/tf/placeholder).\n",
    "* Implement `neural_net_label_input`\n",
    " * Return a [TF Placeholder](https://www.tensorflow.org/api_docs/python/tf/placeholder)\n",
    " * Set the shape using `n_classes` with batch size set to `None`.\n",
    " * Name the TensorFlow placeholder \"y\" using the TensorFlow `name` parameter in the [TF Placeholder](https://www.tensorflow.org/api_docs/python/tf/placeholder).\n",
    "* Implement `neural_net_keep_prob_input`\n",
    " * Return a [TF Placeholder](https://www.tensorflow.org/api_docs/python/tf/placeholder) for dropout keep probability.\n",
    " * Name the TensorFlow placeholder \"keep_prob\" using the TensorFlow `name` parameter in the [TF Placeholder](https://www.tensorflow.org/api_docs/python/tf/placeholder).\n",
    "\n",
    "These names will be used at the end of the project to load your saved model.\n",
    "\n",
    "Note: `None` for shapes in TensorFlow allow for a dynamic size."
   ]
  },
  {
   "cell_type": "code",
   "execution_count": 82,
   "metadata": {
    "collapsed": false,
    "deletable": true,
    "editable": true
   },
   "outputs": [
    {
     "name": "stdout",
     "output_type": "stream",
     "text": [
      "Image Input Tests Passed.\n",
      "Label Input Tests Passed.\n",
      "Keep Prob Tests Passed.\n"
     ]
    }
   ],
   "source": [
    "import tensorflow as tf\n",
    "\n",
    "def neural_net_image_input(image_shape):\n",
    "    \"\"\"\n",
    "    Return a Tensor for a batch of image input\n",
    "    : image_shape: Shape of the images\n",
    "    : return: Tensor for image input.\n",
    "    \"\"\"\n",
    "    # TODO: Implement Function\n",
    "    \n",
    "    x = tf.placeholder(tf.float32, shape = (None, image_shape[0], image_shape[1], image_shape[2]), name=\"x\")\n",
    "    return x\n",
    "\n",
    "\n",
    "def neural_net_label_input(n_classes):\n",
    "    \"\"\"\n",
    "    Return a Tensor for a batch of label input\n",
    "    : n_classes: Number of classes\n",
    "    : return: Tensor for label input.\n",
    "    \"\"\"\n",
    "    # TODO: Implement Function\n",
    "    \n",
    "    y = tf.placeholder(tf.float32, shape = (None, n_classes), name=\"y\")\n",
    "    return y\n",
    "\n",
    "\n",
    "def neural_net_keep_prob_input():\n",
    "    \"\"\"\n",
    "    Return a Tensor for keep probability\n",
    "    : return: Tensor for keep probability.\n",
    "    \"\"\"\n",
    "    # TODO: Implement Function\n",
    "    keep_prob = tf.placeholder(tf.float32, name =\"keep_prob\")\n",
    "    return keep_prob\n",
    "\n",
    "\n",
    "\"\"\"\n",
    "DON'T MODIFY ANYTHING IN THIS CELL THAT IS BELOW THIS LINE\n",
    "\"\"\"\n",
    "tf.reset_default_graph()\n",
    "tests.test_nn_image_inputs(neural_net_image_input)\n",
    "tests.test_nn_label_inputs(neural_net_label_input)\n",
    "tests.test_nn_keep_prob_inputs(neural_net_keep_prob_input)"
   ]
  },
  {
   "cell_type": "markdown",
   "metadata": {
    "deletable": true,
    "editable": true
   },
   "source": [
    "### Convolution and Max Pooling Layer\n",
    "Convolution layers have a lot of success with images. For this code cell, you should implement the function `conv2d_maxpool` to apply convolution then max pooling:\n",
    "* Create the weight and bias using `conv_ksize`, `conv_num_outputs` and the shape of `x_tensor`.\n",
    "* Apply a convolution to `x_tensor` using weight and `conv_strides`.\n",
    " * We recommend you use same padding, but you're welcome to use any padding.\n",
    "* Add bias\n",
    "* Add a nonlinear activation to the convolution.\n",
    "* Apply Max Pooling using `pool_ksize` and `pool_strides`.\n",
    " * We recommend you use same padding, but you're welcome to use any padding.\n",
    "\n",
    "**Note:** You **can't** use [TensorFlow Layers](https://www.tensorflow.org/api_docs/python/tf/layers) or [TensorFlow Layers (contrib)](https://www.tensorflow.org/api_guides/python/contrib.layers) for **this** layer, but you can still use TensorFlow's [Neural Network](https://www.tensorflow.org/api_docs/python/tf/nn) package. You may still use the shortcut option for all the **other** layers."
   ]
  },
  {
   "cell_type": "code",
   "execution_count": 173,
   "metadata": {
    "collapsed": false,
    "deletable": true,
    "editable": true
   },
   "outputs": [
    {
     "name": "stdout",
     "output_type": "stream",
     "text": [
      "Tests Passed\n"
     ]
    }
   ],
   "source": [
    "def conv2d_maxpool(x_tensor, conv_num_outputs, conv_ksize, conv_strides, pool_ksize, pool_strides):\n",
    "    \"\"\"\n",
    "    Apply convolution then max pooling to x_tensor\n",
    "    :param x_tensor: TensorFlow Tensor\n",
    "    :param conv_num_outputs: Number of outputs for the convolutional layer\n",
    "    :param conv_ksize: kernal size 2-D Tuple for the convolutional layer\n",
    "    :param conv_strides: Stride 2-D Tuple for convolution\n",
    "    :param pool_ksize: kernal size 2-D Tuple for pool\n",
    "    :param pool_strides: Stride 2-D Tuple for pool\n",
    "    : return: A tensor that represents convolution and max pooling of x_tensor\n",
    "    \"\"\"\n",
    "    # TODO: Implement Function\n",
    "    \n",
    "    # The shape of the filter weight is (height, width, input_depth, output_depth)\n",
    "    weights = tf.Variable(tf.truncated_normal([conv_ksize[0], \n",
    "                                               conv_ksize[1],\n",
    "                                               x_tensor.get_shape().as_list()[3], \n",
    "                                               conv_num_outputs], mean=0.0, stddev=0.08))\n",
    "    \n",
    "    # The shape of the filter bias is (output_depth)\n",
    "    bias = tf.Variable(tf.random_normal([conv_num_outputs]))\n",
    "    \n",
    "    conv = tf.nn.conv2d(x_tensor, \n",
    "                        weights, \n",
    "                        strides=[1, conv_strides[0], conv_strides[1], 1], \n",
    "                        padding='SAME')\n",
    "    \n",
    "    conv = tf.nn.bias_add(conv,bias)\n",
    "    \n",
    "    conv = tf.nn.relu(conv)\n",
    "\n",
    "    pool = tf.nn.max_pool(conv, \n",
    "                          ksize=[1, pool_ksize[0], pool_ksize[1], 1], \n",
    "                          strides=[1, pool_strides[0], pool_strides[1], 1],\n",
    "                          padding = 'SAME')\n",
    "    \n",
    "    return pool \n",
    "\n",
    "\n",
    "\"\"\"\n",
    "DON'T MODIFY ANYTHING IN THIS CELL THAT IS BELOW THIS LINE\n",
    "\"\"\"\n",
    "tests.test_con_pool(conv2d_maxpool)"
   ]
  },
  {
   "cell_type": "markdown",
   "metadata": {
    "deletable": true,
    "editable": true
   },
   "source": [
    "### Flatten Layer\n",
    "Implement the `flatten` function to change the dimension of `x_tensor` from a 4-D tensor to a 2-D tensor.  The output should be the shape (*Batch Size*, *Flattened Image Size*). Shortcut option: you can use classes from the [TensorFlow Layers](https://www.tensorflow.org/api_docs/python/tf/layers) or [TensorFlow Layers (contrib)](https://www.tensorflow.org/api_guides/python/contrib.layers) packages for this layer. For more of a challenge, only use other TensorFlow packages."
   ]
  },
  {
   "cell_type": "code",
   "execution_count": 174,
   "metadata": {
    "collapsed": false,
    "deletable": true,
    "editable": true
   },
   "outputs": [
    {
     "name": "stdout",
     "output_type": "stream",
     "text": [
      "Tests Passed\n"
     ]
    }
   ],
   "source": [
    "def flatten(x_tensor):\n",
    "    \"\"\"\n",
    "    Flatten x_tensor to (Batch Size, Flattened Image Size)\n",
    "    : x_tensor: A tensor of size (Batch Size, ...), where ... are the image dimensions.\n",
    "    : return: A tensor of size (Batch Size, Flattened Image Size).\n",
    "    \"\"\"\n",
    "    # TODO: Implement Function\n",
    "    \n",
    "    # alternative: tf.contrib.layers.flatten(x_tensor)\n",
    "    \n",
    "    height = x_tensor.get_shape().as_list()[1]\n",
    "    width = x_tensor.get_shape().as_list()[2]\n",
    "    depth = x_tensor.get_shape().as_list()[3]\n",
    "    \n",
    "    x_flatten = tf.reshape(x_tensor, [-1, height*width*depth])\n",
    "    return x_flatten\n",
    "\n",
    "\n",
    "\"\"\"\n",
    "DON'T MODIFY ANYTHING IN THIS CELL THAT IS BELOW THIS LINE\n",
    "\"\"\"\n",
    "tests.test_flatten(flatten)"
   ]
  },
  {
   "cell_type": "markdown",
   "metadata": {
    "deletable": true,
    "editable": true
   },
   "source": [
    "### Fully-Connected Layer\n",
    "Implement the `fully_conn` function to apply a fully connected layer to `x_tensor` with the shape (*Batch Size*, *num_outputs*). Shortcut option: you can use classes from the [TensorFlow Layers](https://www.tensorflow.org/api_docs/python/tf/layers) or [TensorFlow Layers (contrib)](https://www.tensorflow.org/api_guides/python/contrib.layers) packages for this layer. For more of a challenge, only use other TensorFlow packages."
   ]
  },
  {
   "cell_type": "code",
   "execution_count": 175,
   "metadata": {
    "collapsed": false,
    "deletable": true,
    "editable": true
   },
   "outputs": [
    {
     "name": "stdout",
     "output_type": "stream",
     "text": [
      "Tests Passed\n"
     ]
    }
   ],
   "source": [
    "def fully_conn(x_tensor, num_outputs):\n",
    "    \"\"\"\n",
    "    Apply a fully connected layer to x_tensor using weight and bias\n",
    "    : x_tensor: A 2-D tensor where the first dimension is batch size.\n",
    "    : num_outputs: The number of output that the new tensor should be.\n",
    "    : return: A 2-D tensor where the second dimension is num_outputs.\n",
    "    \"\"\"\n",
    "    # TODO: Implement Function\n",
    "        \n",
    "    full_con = tf.layers.dense(inputs=x_tensor, units=num_outputs, activation=tf.nn.relu)\n",
    "    \n",
    "    return full_con\n",
    "\n",
    "\n",
    "\"\"\"\n",
    "DON'T MODIFY ANYTHING IN THIS CELL THAT IS BELOW THIS LINE\n",
    "\"\"\"\n",
    "tests.test_fully_conn(fully_conn)"
   ]
  },
  {
   "cell_type": "markdown",
   "metadata": {
    "deletable": true,
    "editable": true
   },
   "source": [
    "### Output Layer\n",
    "Implement the `output` function to apply a fully connected layer to `x_tensor` with the shape (*Batch Size*, *num_outputs*). Shortcut option: you can use classes from the [TensorFlow Layers](https://www.tensorflow.org/api_docs/python/tf/layers) or [TensorFlow Layers (contrib)](https://www.tensorflow.org/api_guides/python/contrib.layers) packages for this layer. For more of a challenge, only use other TensorFlow packages.\n",
    "\n",
    "**Note:** Activation, softmax, or cross entropy should **not** be applied to this."
   ]
  },
  {
   "cell_type": "code",
   "execution_count": 176,
   "metadata": {
    "collapsed": false,
    "deletable": true,
    "editable": true
   },
   "outputs": [
    {
     "name": "stdout",
     "output_type": "stream",
     "text": [
      "Tests Passed\n"
     ]
    }
   ],
   "source": [
    "def output(x_tensor, num_outputs):\n",
    "    \"\"\"\n",
    "    Apply a output layer to x_tensor using weight and bias\n",
    "    : x_tensor: A 2-D tensor where the first dimension is batch size.\n",
    "    : num_outputs: The number of output that the new tensor should be.\n",
    "    : return: A 2-D tensor where the second dimension is num_outputs.\n",
    "    \"\"\"\n",
    "    # TODO: Implement Function\n",
    "    \n",
    "    #output = tf.layers.dense(inputs=x_tensor, units=num_outputs)\n",
    "    \n",
    "    out_weight = tf.Variable(tf.truncated_normal(shape=[x_tensor.get_shape().as_list()[1], num_outputs], \n",
    "                                                 stddev=0.08, mean = 0.0), dtype=tf.float32)\n",
    "    out_bias = tf.Variable(tf.random_normal(shape=[num_outputs]))\n",
    "    output = tf.add(tf.matmul(x_tensor, out_weight), out_bias)\n",
    "  \n",
    "    return output\n",
    "\n",
    "\n",
    "\"\"\"\n",
    "DON'T MODIFY ANYTHING IN THIS CELL THAT IS BELOW THIS LINE\n",
    "\"\"\"\n",
    "tests.test_output(output)"
   ]
  },
  {
   "cell_type": "markdown",
   "metadata": {
    "deletable": true,
    "editable": true
   },
   "source": [
    "### Create Convolutional Model\n",
    "Implement the function `conv_net` to create a convolutional neural network model. The function takes in a batch of images, `x`, and outputs logits.  Use the layers you created above to create this model:\n",
    "\n",
    "* Apply 1, 2, or 3 Convolution and Max Pool layers\n",
    "* Apply a Flatten Layer\n",
    "* Apply 1, 2, or 3 Fully Connected Layers\n",
    "* Apply an Output Layer\n",
    "* Return the output\n",
    "* Apply [TensorFlow's Dropout](https://www.tensorflow.org/api_docs/python/tf/nn/dropout) to one or more layers in the model using `keep_prob`. "
   ]
  },
  {
   "cell_type": "code",
   "execution_count": 177,
   "metadata": {
    "collapsed": false,
    "deletable": true,
    "editable": true
   },
   "outputs": [
    {
     "name": "stdout",
     "output_type": "stream",
     "text": [
      "Neural Network Built!\n"
     ]
    }
   ],
   "source": [
    "def conv_net(x, keep_prob):\n",
    "    \"\"\"\n",
    "    Create a convolutional neural network model\n",
    "    : x: Placeholder tensor that holds image data.\n",
    "    : keep_prob: Placeholder tensor that hold dropout keep probability.\n",
    "    : return: Tensor that represents logits\n",
    "    \"\"\"\n",
    "    # TODO: Apply 1, 2, or 3 Convolution and Max Pool layers\n",
    "    #    Play around with different number of outputs, kernel size and stride\n",
    "    # Function Definition from Above:\n",
    "    #    conv2d_maxpool(x_tensor, conv_num_outputs, conv_ksize, conv_strides, pool_ksize, pool_strides)\n",
    "    \n",
    "    # (32,32,3) to (30,30,32) same padding thus new_height =((32 - 3 + 2*0) / 1) + 1 = 15.5 =30\n",
    "    conv_1 = conv2d_maxpool(x, 32, (3,3), (1,1), (2,2), (2,2))\n",
    "    \n",
    "    # (30,30,32) to (28,28,64)\n",
    "    conv_2 = conv2d_maxpool(conv_1, 64, (3,3), (1,1), (2,2), (2,2))\n",
    "    \n",
    "    # (28,28,64) to (26,26,128)\n",
    "    conv_3 = conv2d_maxpool(conv_2, 128, (3,3), (1,1), (2,2), (2,2))\n",
    "\n",
    "    # TODO: Apply a Flatten Layer\n",
    "    # Function Definition from Above:\n",
    "    #   flatten(x_tensor)\n",
    "    \n",
    "    flat = flatten(conv_3)\n",
    "    \n",
    "\n",
    "    # TODO: Apply 1, 2, or 3 Fully Connected Layers\n",
    "    #    Play around with different number of outputs\n",
    "    # Function Definition from Above:\n",
    "    #   fully_conn(x_tensor, num_outputs)\n",
    "    \n",
    "    fc_1 = fully_conn(flat, 512)\n",
    "    fc_1 = tf.nn.dropout(fc_1, keep_prob)\n",
    "    \n",
    "    fc_2 = fully_conn(fc_1, 256)\n",
    "    fc_2 = tf.nn.dropout(fc_2, keep_prob)\n",
    "    \n",
    "    fc_3 = fully_conn(fc_2, 60)\n",
    "    fc_3 = tf.nn.dropout(fc_3, keep_prob)\n",
    "    \n",
    "    \n",
    "    # TODO: Apply an Output Layer\n",
    "    #    Set this to the number of classes\n",
    "    # Function Definition from Above:\n",
    "    #   output(x_tensor, num_outputs)\n",
    "    \n",
    "    out = output(fc_3, 10)\n",
    "    \n",
    "    # TODO: return output\n",
    "    return out\n",
    "\n",
    "\n",
    "\"\"\"\n",
    "DON'T MODIFY ANYTHING IN THIS CELL THAT IS BELOW THIS LINE\n",
    "\"\"\"\n",
    "\n",
    "##############################\n",
    "## Build the Neural Network ##\n",
    "##############################\n",
    "\n",
    "# Remove previous weights, bias, inputs, etc..\n",
    "tf.reset_default_graph()\n",
    "\n",
    "# Inputs\n",
    "x = neural_net_image_input((32, 32, 3))\n",
    "y = neural_net_label_input(10)\n",
    "keep_prob = neural_net_keep_prob_input()\n",
    "\n",
    "# Model\n",
    "logits = conv_net(x, keep_prob)\n",
    "\n",
    "# Name logits Tensor, so that is can be loaded from disk after training\n",
    "logits = tf.identity(logits, name='logits')\n",
    "\n",
    "# Loss and Optimizer\n",
    "cost = tf.reduce_mean(tf.nn.softmax_cross_entropy_with_logits(logits=logits, labels=y))\n",
    "optimizer = tf.train.AdamOptimizer().minimize(cost)\n",
    "\n",
    "# Accuracy\n",
    "correct_pred = tf.equal(tf.argmax(logits, 1), tf.argmax(y, 1))\n",
    "accuracy = tf.reduce_mean(tf.cast(correct_pred, tf.float32), name='accuracy')\n",
    "\n",
    "tests.test_conv_net(conv_net)"
   ]
  },
  {
   "cell_type": "markdown",
   "metadata": {
    "deletable": true,
    "editable": true
   },
   "source": [
    "## Train the Neural Network\n",
    "### Single Optimization\n",
    "Implement the function `train_neural_network` to do a single optimization.  The optimization should use `optimizer` to optimize in `session` with a `feed_dict` of the following:\n",
    "* `x` for image input\n",
    "* `y` for labels\n",
    "* `keep_prob` for keep probability for dropout\n",
    "\n",
    "This function will be called for each batch, so `tf.global_variables_initializer()` has already been called.\n",
    "\n",
    "Note: Nothing needs to be returned. This function is only optimizing the neural network."
   ]
  },
  {
   "cell_type": "code",
   "execution_count": 178,
   "metadata": {
    "collapsed": false,
    "deletable": true,
    "editable": true
   },
   "outputs": [
    {
     "name": "stdout",
     "output_type": "stream",
     "text": [
      "Tests Passed\n"
     ]
    }
   ],
   "source": [
    "def train_neural_network(session, optimizer, keep_probability, feature_batch, label_batch):\n",
    "    \"\"\"\n",
    "    Optimize the session on a batch of images and labels\n",
    "    : session: Current TensorFlow session\n",
    "    : optimizer: TensorFlow optimizer function\n",
    "    : keep_probability: keep probability\n",
    "    : feature_batch: Batch of Numpy image data\n",
    "    : label_batch: Batch of Numpy label data\n",
    "    \"\"\"\n",
    "    # TODO: Implement Function\n",
    "      \n",
    "    session.run(optimizer, feed_dict={x: feature_batch,\n",
    "                                      y: label_batch,\n",
    "                                      keep_prob: keep_probability})\n",
    "    \n",
    "    pass\n",
    "\n",
    "\n",
    "\"\"\"\n",
    "DON'T MODIFY ANYTHING IN THIS CELL THAT IS BELOW THIS LINE\n",
    "\"\"\"\n",
    "tests.test_train_nn(train_neural_network)"
   ]
  },
  {
   "cell_type": "markdown",
   "metadata": {
    "deletable": true,
    "editable": true
   },
   "source": [
    "### Show Stats\n",
    "Implement the function `print_stats` to print loss and validation accuracy.  Use the global variables `valid_features` and `valid_labels` to calculate validation accuracy.  Use a keep probability of `1.0` to calculate the loss and validation accuracy."
   ]
  },
  {
   "cell_type": "code",
   "execution_count": 179,
   "metadata": {
    "collapsed": false,
    "deletable": true,
    "editable": true
   },
   "outputs": [],
   "source": [
    "def print_stats(session, feature_batch, label_batch, cost, accuracy):\n",
    "    \"\"\"\n",
    "    Print information about loss and validation accuracy\n",
    "    : session: Current TensorFlow session\n",
    "    : feature_batch: Batch of Numpy image data\n",
    "    : label_batch: Batch of Numpy label data\n",
    "    : cost: TensorFlow cost function\n",
    "    : accuracy: TensorFlow accuracy function\n",
    "    \"\"\"\n",
    "    # TODO: Implement Function\n",
    "    \n",
    "    loss = session.run(cost, feed_dict={x: feature_batch,\n",
    "                                        y: label_batch,\n",
    "                                        keep_prob: 1.0})\n",
    "    \n",
    "    val_accuracy = session.run(accuracy, feed_dict={x: valid_features,\n",
    "                                                   y: valid_labels,\n",
    "                                                   keep_prob: 1.0})\n",
    "    \n",
    "    print('Loss: {:>10.4f} Validation Accuracy: {:.6f}'.format(loss,val_accuracy))\n",
    "    \n",
    "    pass"
   ]
  },
  {
   "cell_type": "markdown",
   "metadata": {
    "deletable": true,
    "editable": true
   },
   "source": [
    "### Hyperparameters\n",
    "Tune the following parameters:\n",
    "* Set `epochs` to the number of iterations until the network stops learning or start overfitting\n",
    "* Set `batch_size` to the highest number that your machine has memory for.  Most people set them to common sizes of memory:\n",
    " * 64\n",
    " * 128\n",
    " * 256\n",
    " * ...\n",
    "* Set `keep_probability` to the probability of keeping a node using dropout"
   ]
  },
  {
   "cell_type": "code",
   "execution_count": 180,
   "metadata": {
    "collapsed": true,
    "deletable": true,
    "editable": true
   },
   "outputs": [],
   "source": [
    "# TODO: Tune Parameters\n",
    "epochs = 35\n",
    "batch_size = 256\n",
    "keep_probability = 0.75"
   ]
  },
  {
   "cell_type": "markdown",
   "metadata": {
    "deletable": true,
    "editable": true
   },
   "source": [
    "### Train on a Single CIFAR-10 Batch\n",
    "Instead of training the neural network on all the CIFAR-10 batches of data, let's use a single batch. This should save time while you iterate on the model to get a better accuracy.  Once the final validation accuracy is 50% or greater, run the model on all the data in the next section."
   ]
  },
  {
   "cell_type": "code",
   "execution_count": 181,
   "metadata": {
    "collapsed": false,
    "deletable": true,
    "editable": true
   },
   "outputs": [
    {
     "name": "stdout",
     "output_type": "stream",
     "text": [
      "Checking the Training on a Single Batch...\n",
      "Epoch  1, CIFAR-10 Batch 1:  Loss:     2.2961 Validation Accuracy: 0.102400\n",
      "Epoch  2, CIFAR-10 Batch 1:  Loss:     2.2807 Validation Accuracy: 0.111200\n",
      "Epoch  3, CIFAR-10 Batch 1:  Loss:     2.1632 Validation Accuracy: 0.234800\n",
      "Epoch  4, CIFAR-10 Batch 1:  Loss:     2.1317 Validation Accuracy: 0.274400\n",
      "Epoch  5, CIFAR-10 Batch 1:  Loss:     2.0738 Validation Accuracy: 0.307400\n",
      "Epoch  6, CIFAR-10 Batch 1:  Loss:     1.9475 Validation Accuracy: 0.334200\n",
      "Epoch  7, CIFAR-10 Batch 1:  Loss:     1.7271 Validation Accuracy: 0.378400\n",
      "Epoch  8, CIFAR-10 Batch 1:  Loss:     1.4759 Validation Accuracy: 0.417600\n",
      "Epoch  9, CIFAR-10 Batch 1:  Loss:     1.3629 Validation Accuracy: 0.442200\n",
      "Epoch 10, CIFAR-10 Batch 1:  Loss:     1.2617 Validation Accuracy: 0.426800\n",
      "Epoch 11, CIFAR-10 Batch 1:  Loss:     1.0675 Validation Accuracy: 0.443600\n",
      "Epoch 12, CIFAR-10 Batch 1:  Loss:     0.9974 Validation Accuracy: 0.452800\n",
      "Epoch 13, CIFAR-10 Batch 1:  Loss:     0.9512 Validation Accuracy: 0.471600\n",
      "Epoch 14, CIFAR-10 Batch 1:  Loss:     0.8306 Validation Accuracy: 0.462800\n",
      "Epoch 15, CIFAR-10 Batch 1:  Loss:     0.7275 Validation Accuracy: 0.476000\n",
      "Epoch 16, CIFAR-10 Batch 1:  Loss:     0.6780 Validation Accuracy: 0.485600\n",
      "Epoch 17, CIFAR-10 Batch 1:  Loss:     0.5962 Validation Accuracy: 0.488000\n",
      "Epoch 18, CIFAR-10 Batch 1:  Loss:     0.5000 Validation Accuracy: 0.500800\n",
      "Epoch 19, CIFAR-10 Batch 1:  Loss:     0.4698 Validation Accuracy: 0.491000\n",
      "Epoch 20, CIFAR-10 Batch 1:  Loss:     0.4211 Validation Accuracy: 0.504600\n",
      "Epoch 21, CIFAR-10 Batch 1:  Loss:     0.3855 Validation Accuracy: 0.485200\n",
      "Epoch 22, CIFAR-10 Batch 1:  Loss:     0.3860 Validation Accuracy: 0.472600\n",
      "Epoch 23, CIFAR-10 Batch 1:  Loss:     0.2928 Validation Accuracy: 0.491800\n",
      "Epoch 24, CIFAR-10 Batch 1:  Loss:     0.2373 Validation Accuracy: 0.503800\n",
      "Epoch 25, CIFAR-10 Batch 1:  Loss:     0.2078 Validation Accuracy: 0.499600\n",
      "Epoch 26, CIFAR-10 Batch 1:  Loss:     0.1533 Validation Accuracy: 0.510600\n",
      "Epoch 27, CIFAR-10 Batch 1:  Loss:     0.1207 Validation Accuracy: 0.511800\n",
      "Epoch 28, CIFAR-10 Batch 1:  Loss:     0.0961 Validation Accuracy: 0.507800\n",
      "Epoch 29, CIFAR-10 Batch 1:  Loss:     0.0813 Validation Accuracy: 0.494000\n",
      "Epoch 30, CIFAR-10 Batch 1:  Loss:     0.0634 Validation Accuracy: 0.491400\n",
      "Epoch 31, CIFAR-10 Batch 1:  Loss:     0.0573 Validation Accuracy: 0.508200\n",
      "Epoch 32, CIFAR-10 Batch 1:  Loss:     0.0402 Validation Accuracy: 0.519000\n",
      "Epoch 33, CIFAR-10 Batch 1:  Loss:     0.0343 Validation Accuracy: 0.509600\n",
      "Epoch 34, CIFAR-10 Batch 1:  Loss:     0.0245 Validation Accuracy: 0.502600\n",
      "Epoch 35, CIFAR-10 Batch 1:  Loss:     0.0305 Validation Accuracy: 0.502400\n"
     ]
    }
   ],
   "source": [
    "\"\"\"\n",
    "DON'T MODIFY ANYTHING IN THIS CELL\n",
    "\"\"\"\n",
    "print('Checking the Training on a Single Batch...')\n",
    "with tf.Session() as sess:\n",
    "    # Initializing the variables\n",
    "    sess.run(tf.global_variables_initializer())\n",
    "    \n",
    "    # Training cycle\n",
    "    for epoch in range(epochs):\n",
    "        batch_i = 1\n",
    "        for batch_features, batch_labels in helper.load_preprocess_training_batch(batch_i, batch_size):\n",
    "            train_neural_network(sess, optimizer, keep_probability, batch_features, batch_labels)\n",
    "        print('Epoch {:>2}, CIFAR-10 Batch {}:  '.format(epoch + 1, batch_i), end='')\n",
    "        print_stats(sess, batch_features, batch_labels, cost, accuracy)"
   ]
  },
  {
   "cell_type": "markdown",
   "metadata": {
    "deletable": true,
    "editable": true
   },
   "source": [
    "### Fully Train the Model\n",
    "Now that you got a good accuracy with a single CIFAR-10 batch, try it with all five batches."
   ]
  },
  {
   "cell_type": "code",
   "execution_count": 182,
   "metadata": {
    "collapsed": false,
    "deletable": true,
    "editable": true
   },
   "outputs": [
    {
     "name": "stdout",
     "output_type": "stream",
     "text": [
      "Training...\n",
      "Epoch  1, CIFAR-10 Batch 1:  Loss:     2.2615 Validation Accuracy: 0.136400\n",
      "Epoch  1, CIFAR-10 Batch 2:  Loss:     2.1516 Validation Accuracy: 0.228400\n",
      "Epoch  1, CIFAR-10 Batch 3:  Loss:     1.9208 Validation Accuracy: 0.262600\n",
      "Epoch  1, CIFAR-10 Batch 4:  Loss:     1.9293 Validation Accuracy: 0.321800\n",
      "Epoch  1, CIFAR-10 Batch 5:  Loss:     1.7540 Validation Accuracy: 0.350400\n",
      "Epoch  2, CIFAR-10 Batch 1:  Loss:     1.7848 Validation Accuracy: 0.390600\n",
      "Epoch  2, CIFAR-10 Batch 2:  Loss:     1.7708 Validation Accuracy: 0.388000\n",
      "Epoch  2, CIFAR-10 Batch 3:  Loss:     1.4227 Validation Accuracy: 0.412400\n",
      "Epoch  2, CIFAR-10 Batch 4:  Loss:     1.5187 Validation Accuracy: 0.451000\n",
      "Epoch  2, CIFAR-10 Batch 5:  Loss:     1.5596 Validation Accuracy: 0.464400\n",
      "Epoch  3, CIFAR-10 Batch 1:  Loss:     1.5403 Validation Accuracy: 0.447200\n",
      "Epoch  3, CIFAR-10 Batch 2:  Loss:     1.4884 Validation Accuracy: 0.482800\n",
      "Epoch  3, CIFAR-10 Batch 3:  Loss:     1.2691 Validation Accuracy: 0.471800\n",
      "Epoch  3, CIFAR-10 Batch 4:  Loss:     1.2783 Validation Accuracy: 0.498200\n",
      "Epoch  3, CIFAR-10 Batch 5:  Loss:     1.3901 Validation Accuracy: 0.495400\n",
      "Epoch  4, CIFAR-10 Batch 1:  Loss:     1.2231 Validation Accuracy: 0.512000\n",
      "Epoch  4, CIFAR-10 Batch 2:  Loss:     1.2773 Validation Accuracy: 0.504400\n",
      "Epoch  4, CIFAR-10 Batch 3:  Loss:     1.0272 Validation Accuracy: 0.496800\n",
      "Epoch  4, CIFAR-10 Batch 4:  Loss:     1.0895 Validation Accuracy: 0.531800\n",
      "Epoch  4, CIFAR-10 Batch 5:  Loss:     1.1280 Validation Accuracy: 0.530200\n",
      "Epoch  5, CIFAR-10 Batch 1:  Loss:     1.1169 Validation Accuracy: 0.525400\n",
      "Epoch  5, CIFAR-10 Batch 2:  Loss:     1.0617 Validation Accuracy: 0.526000\n",
      "Epoch  5, CIFAR-10 Batch 3:  Loss:     0.9241 Validation Accuracy: 0.537000\n",
      "Epoch  5, CIFAR-10 Batch 4:  Loss:     0.9465 Validation Accuracy: 0.535200\n",
      "Epoch  5, CIFAR-10 Batch 5:  Loss:     0.9283 Validation Accuracy: 0.549200\n",
      "Epoch  6, CIFAR-10 Batch 1:  Loss:     0.9990 Validation Accuracy: 0.546400\n",
      "Epoch  6, CIFAR-10 Batch 2:  Loss:     0.8858 Validation Accuracy: 0.531400\n",
      "Epoch  6, CIFAR-10 Batch 3:  Loss:     0.7891 Validation Accuracy: 0.560800\n",
      "Epoch  6, CIFAR-10 Batch 4:  Loss:     0.8521 Validation Accuracy: 0.550800\n",
      "Epoch  6, CIFAR-10 Batch 5:  Loss:     0.7377 Validation Accuracy: 0.566400\n",
      "Epoch  7, CIFAR-10 Batch 1:  Loss:     0.8426 Validation Accuracy: 0.580600\n",
      "Epoch  7, CIFAR-10 Batch 2:  Loss:     0.7460 Validation Accuracy: 0.580400\n",
      "Epoch  7, CIFAR-10 Batch 3:  Loss:     0.6362 Validation Accuracy: 0.559000\n",
      "Epoch  7, CIFAR-10 Batch 4:  Loss:     0.7417 Validation Accuracy: 0.590200\n",
      "Epoch  7, CIFAR-10 Batch 5:  Loss:     0.6455 Validation Accuracy: 0.571400\n",
      "Epoch  8, CIFAR-10 Batch 1:  Loss:     0.8184 Validation Accuracy: 0.576800\n",
      "Epoch  8, CIFAR-10 Batch 2:  Loss:     0.6644 Validation Accuracy: 0.589800\n",
      "Epoch  8, CIFAR-10 Batch 3:  Loss:     0.5326 Validation Accuracy: 0.579600\n",
      "Epoch  8, CIFAR-10 Batch 4:  Loss:     0.6068 Validation Accuracy: 0.599000\n",
      "Epoch  8, CIFAR-10 Batch 5:  Loss:     0.5515 Validation Accuracy: 0.596800\n",
      "Epoch  9, CIFAR-10 Batch 1:  Loss:     0.6664 Validation Accuracy: 0.584200\n",
      "Epoch  9, CIFAR-10 Batch 2:  Loss:     0.5784 Validation Accuracy: 0.609600\n",
      "Epoch  9, CIFAR-10 Batch 3:  Loss:     0.4226 Validation Accuracy: 0.598400\n",
      "Epoch  9, CIFAR-10 Batch 4:  Loss:     0.4747 Validation Accuracy: 0.615800\n",
      "Epoch  9, CIFAR-10 Batch 5:  Loss:     0.4043 Validation Accuracy: 0.620000\n",
      "Epoch 10, CIFAR-10 Batch 1:  Loss:     0.5846 Validation Accuracy: 0.598000\n",
      "Epoch 10, CIFAR-10 Batch 2:  Loss:     0.5095 Validation Accuracy: 0.618200\n",
      "Epoch 10, CIFAR-10 Batch 3:  Loss:     0.3444 Validation Accuracy: 0.626000\n",
      "Epoch 10, CIFAR-10 Batch 4:  Loss:     0.3950 Validation Accuracy: 0.624800\n",
      "Epoch 10, CIFAR-10 Batch 5:  Loss:     0.3676 Validation Accuracy: 0.611800\n",
      "Epoch 11, CIFAR-10 Batch 1:  Loss:     0.5082 Validation Accuracy: 0.606800\n",
      "Epoch 11, CIFAR-10 Batch 2:  Loss:     0.4708 Validation Accuracy: 0.628800\n",
      "Epoch 11, CIFAR-10 Batch 3:  Loss:     0.3345 Validation Accuracy: 0.597400\n",
      "Epoch 11, CIFAR-10 Batch 4:  Loss:     0.3317 Validation Accuracy: 0.628800\n",
      "Epoch 11, CIFAR-10 Batch 5:  Loss:     0.3330 Validation Accuracy: 0.632000\n",
      "Epoch 12, CIFAR-10 Batch 1:  Loss:     0.4302 Validation Accuracy: 0.595000\n",
      "Epoch 12, CIFAR-10 Batch 2:  Loss:     0.4166 Validation Accuracy: 0.625400\n",
      "Epoch 12, CIFAR-10 Batch 3:  Loss:     0.2379 Validation Accuracy: 0.621400\n",
      "Epoch 12, CIFAR-10 Batch 4:  Loss:     0.2858 Validation Accuracy: 0.634600\n",
      "Epoch 12, CIFAR-10 Batch 5:  Loss:     0.2552 Validation Accuracy: 0.627200\n",
      "Epoch 13, CIFAR-10 Batch 1:  Loss:     0.3418 Validation Accuracy: 0.606800\n",
      "Epoch 13, CIFAR-10 Batch 2:  Loss:     0.3561 Validation Accuracy: 0.633200\n",
      "Epoch 13, CIFAR-10 Batch 3:  Loss:     0.2017 Validation Accuracy: 0.618800\n",
      "Epoch 13, CIFAR-10 Batch 4:  Loss:     0.2457 Validation Accuracy: 0.635600\n",
      "Epoch 13, CIFAR-10 Batch 5:  Loss:     0.2422 Validation Accuracy: 0.638400\n",
      "Epoch 14, CIFAR-10 Batch 1:  Loss:     0.2942 Validation Accuracy: 0.628800\n",
      "Epoch 14, CIFAR-10 Batch 2:  Loss:     0.2824 Validation Accuracy: 0.630400\n",
      "Epoch 14, CIFAR-10 Batch 3:  Loss:     0.1621 Validation Accuracy: 0.625800\n",
      "Epoch 14, CIFAR-10 Batch 4:  Loss:     0.1968 Validation Accuracy: 0.646200\n",
      "Epoch 14, CIFAR-10 Batch 5:  Loss:     0.1854 Validation Accuracy: 0.641800\n",
      "Epoch 15, CIFAR-10 Batch 1:  Loss:     0.2476 Validation Accuracy: 0.612800\n",
      "Epoch 15, CIFAR-10 Batch 2:  Loss:     0.2449 Validation Accuracy: 0.622200\n",
      "Epoch 15, CIFAR-10 Batch 3:  Loss:     0.1599 Validation Accuracy: 0.620800\n",
      "Epoch 15, CIFAR-10 Batch 4:  Loss:     0.1707 Validation Accuracy: 0.654400\n",
      "Epoch 15, CIFAR-10 Batch 5:  Loss:     0.1647 Validation Accuracy: 0.649800\n",
      "Epoch 16, CIFAR-10 Batch 1:  Loss:     0.2145 Validation Accuracy: 0.625400\n",
      "Epoch 16, CIFAR-10 Batch 2:  Loss:     0.1808 Validation Accuracy: 0.653000\n",
      "Epoch 16, CIFAR-10 Batch 3:  Loss:     0.1242 Validation Accuracy: 0.640600\n",
      "Epoch 16, CIFAR-10 Batch 4:  Loss:     0.1443 Validation Accuracy: 0.652800\n",
      "Epoch 16, CIFAR-10 Batch 5:  Loss:     0.1426 Validation Accuracy: 0.649800\n",
      "Epoch 17, CIFAR-10 Batch 1:  Loss:     0.1656 Validation Accuracy: 0.636800\n",
      "Epoch 17, CIFAR-10 Batch 2:  Loss:     0.1398 Validation Accuracy: 0.655000\n",
      "Epoch 17, CIFAR-10 Batch 3:  Loss:     0.1250 Validation Accuracy: 0.623600\n",
      "Epoch 17, CIFAR-10 Batch 4:  Loss:     0.1153 Validation Accuracy: 0.654200\n",
      "Epoch 17, CIFAR-10 Batch 5:  Loss:     0.0956 Validation Accuracy: 0.645400\n",
      "Epoch 18, CIFAR-10 Batch 1:  Loss:     0.1778 Validation Accuracy: 0.644800\n",
      "Epoch 18, CIFAR-10 Batch 2:  Loss:     0.1402 Validation Accuracy: 0.637600\n",
      "Epoch 18, CIFAR-10 Batch 3:  Loss:     0.1154 Validation Accuracy: 0.635200\n",
      "Epoch 18, CIFAR-10 Batch 4:  Loss:     0.1076 Validation Accuracy: 0.652600\n",
      "Epoch 18, CIFAR-10 Batch 5:  Loss:     0.1197 Validation Accuracy: 0.634800\n",
      "Epoch 19, CIFAR-10 Batch 1:  Loss:     0.1856 Validation Accuracy: 0.628800\n",
      "Epoch 19, CIFAR-10 Batch 2:  Loss:     0.1313 Validation Accuracy: 0.646600\n",
      "Epoch 19, CIFAR-10 Batch 3:  Loss:     0.0942 Validation Accuracy: 0.642200\n",
      "Epoch 19, CIFAR-10 Batch 4:  Loss:     0.1124 Validation Accuracy: 0.623800\n",
      "Epoch 19, CIFAR-10 Batch 5:  Loss:     0.0848 Validation Accuracy: 0.650200\n",
      "Epoch 20, CIFAR-10 Batch 1:  Loss:     0.1730 Validation Accuracy: 0.632800\n",
      "Epoch 20, CIFAR-10 Batch 2:  Loss:     0.1015 Validation Accuracy: 0.640800\n",
      "Epoch 20, CIFAR-10 Batch 3:  Loss:     0.0794 Validation Accuracy: 0.648200\n",
      "Epoch 20, CIFAR-10 Batch 4:  Loss:     0.0784 Validation Accuracy: 0.634200\n",
      "Epoch 20, CIFAR-10 Batch 5:  Loss:     0.0636 Validation Accuracy: 0.655400\n",
      "Epoch 21, CIFAR-10 Batch 1:  Loss:     0.0895 Validation Accuracy: 0.651600\n",
      "Epoch 21, CIFAR-10 Batch 2:  Loss:     0.1066 Validation Accuracy: 0.616800\n",
      "Epoch 21, CIFAR-10 Batch 3:  Loss:     0.0594 Validation Accuracy: 0.653000\n",
      "Epoch 21, CIFAR-10 Batch 4:  Loss:     0.0473 Validation Accuracy: 0.650200\n",
      "Epoch 21, CIFAR-10 Batch 5:  Loss:     0.0548 Validation Accuracy: 0.662400\n",
      "Epoch 22, CIFAR-10 Batch 1:  Loss:     0.0923 Validation Accuracy: 0.649200\n",
      "Epoch 22, CIFAR-10 Batch 2:  Loss:     0.0750 Validation Accuracy: 0.643200\n",
      "Epoch 22, CIFAR-10 Batch 3:  Loss:     0.0790 Validation Accuracy: 0.646600\n",
      "Epoch 22, CIFAR-10 Batch 4:  Loss:     0.0627 Validation Accuracy: 0.627800\n",
      "Epoch 22, CIFAR-10 Batch 5:  Loss:     0.0481 Validation Accuracy: 0.649600\n",
      "Epoch 23, CIFAR-10 Batch 1:  Loss:     0.0689 Validation Accuracy: 0.639400\n",
      "Epoch 23, CIFAR-10 Batch 2:  Loss:     0.0595 Validation Accuracy: 0.645200\n",
      "Epoch 23, CIFAR-10 Batch 3:  Loss:     0.0499 Validation Accuracy: 0.649400\n",
      "Epoch 23, CIFAR-10 Batch 4:  Loss:     0.0436 Validation Accuracy: 0.646200\n",
      "Epoch 23, CIFAR-10 Batch 5:  Loss:     0.0354 Validation Accuracy: 0.656800\n",
      "Epoch 24, CIFAR-10 Batch 1:  Loss:     0.0578 Validation Accuracy: 0.651200\n",
      "Epoch 24, CIFAR-10 Batch 2:  Loss:     0.0505 Validation Accuracy: 0.640800\n",
      "Epoch 24, CIFAR-10 Batch 3:  Loss:     0.0510 Validation Accuracy: 0.654000\n",
      "Epoch 24, CIFAR-10 Batch 4:  Loss:     0.0292 Validation Accuracy: 0.643800\n",
      "Epoch 24, CIFAR-10 Batch 5:  Loss:     0.0360 Validation Accuracy: 0.648400\n",
      "Epoch 25, CIFAR-10 Batch 1:  Loss:     0.0543 Validation Accuracy: 0.643200\n",
      "Epoch 25, CIFAR-10 Batch 2:  Loss:     0.0483 Validation Accuracy: 0.655000\n",
      "Epoch 25, CIFAR-10 Batch 3:  Loss:     0.0290 Validation Accuracy: 0.661000\n",
      "Epoch 25, CIFAR-10 Batch 4:  Loss:     0.0280 Validation Accuracy: 0.633200\n",
      "Epoch 25, CIFAR-10 Batch 5:  Loss:     0.0238 Validation Accuracy: 0.650400\n",
      "Epoch 26, CIFAR-10 Batch 1:  Loss:     0.0507 Validation Accuracy: 0.647800\n",
      "Epoch 26, CIFAR-10 Batch 2:  Loss:     0.0389 Validation Accuracy: 0.648400\n",
      "Epoch 26, CIFAR-10 Batch 3:  Loss:     0.0360 Validation Accuracy: 0.659600\n",
      "Epoch 26, CIFAR-10 Batch 4:  Loss:     0.0250 Validation Accuracy: 0.632800\n",
      "Epoch 26, CIFAR-10 Batch 5:  Loss:     0.0202 Validation Accuracy: 0.646200\n",
      "Epoch 27, CIFAR-10 Batch 1:  Loss:     0.0441 Validation Accuracy: 0.657800\n",
      "Epoch 27, CIFAR-10 Batch 2:  Loss:     0.0216 Validation Accuracy: 0.650800\n",
      "Epoch 27, CIFAR-10 Batch 3:  Loss:     0.0447 Validation Accuracy: 0.654400\n",
      "Epoch 27, CIFAR-10 Batch 4:  Loss:     0.0381 Validation Accuracy: 0.643200\n",
      "Epoch 27, CIFAR-10 Batch 5:  Loss:     0.0183 Validation Accuracy: 0.649000\n",
      "Epoch 28, CIFAR-10 Batch 1:  Loss:     0.0257 Validation Accuracy: 0.658600\n",
      "Epoch 28, CIFAR-10 Batch 2:  Loss:     0.0190 Validation Accuracy: 0.652400\n",
      "Epoch 28, CIFAR-10 Batch 3:  Loss:     0.0203 Validation Accuracy: 0.661200\n",
      "Epoch 28, CIFAR-10 Batch 4:  Loss:     0.0267 Validation Accuracy: 0.639000\n",
      "Epoch 28, CIFAR-10 Batch 5:  Loss:     0.0198 Validation Accuracy: 0.646600\n",
      "Epoch 29, CIFAR-10 Batch 1:  Loss:     0.0279 Validation Accuracy: 0.649600\n",
      "Epoch 29, CIFAR-10 Batch 2:  Loss:     0.0350 Validation Accuracy: 0.646800\n",
      "Epoch 29, CIFAR-10 Batch 3:  Loss:     0.0260 Validation Accuracy: 0.646200\n",
      "Epoch 29, CIFAR-10 Batch 4:  Loss:     0.0195 Validation Accuracy: 0.650000\n",
      "Epoch 29, CIFAR-10 Batch 5:  Loss:     0.0368 Validation Accuracy: 0.624800\n",
      "Epoch 30, CIFAR-10 Batch 1:  Loss:     0.0219 Validation Accuracy: 0.651400\n",
      "Epoch 30, CIFAR-10 Batch 2:  Loss:     0.0275 Validation Accuracy: 0.651000\n",
      "Epoch 30, CIFAR-10 Batch 3:  Loss:     0.0200 Validation Accuracy: 0.652000\n",
      "Epoch 30, CIFAR-10 Batch 4:  Loss:     0.0101 Validation Accuracy: 0.644000\n",
      "Epoch 30, CIFAR-10 Batch 5:  Loss:     0.0316 Validation Accuracy: 0.628800\n",
      "Epoch 31, CIFAR-10 Batch 1:  Loss:     0.0172 Validation Accuracy: 0.663200\n",
      "Epoch 31, CIFAR-10 Batch 2:  Loss:     0.0179 Validation Accuracy: 0.648000\n",
      "Epoch 31, CIFAR-10 Batch 3:  Loss:     0.0195 Validation Accuracy: 0.652200\n",
      "Epoch 31, CIFAR-10 Batch 4:  Loss:     0.0152 Validation Accuracy: 0.647000\n",
      "Epoch 31, CIFAR-10 Batch 5:  Loss:     0.0086 Validation Accuracy: 0.639200\n",
      "Epoch 32, CIFAR-10 Batch 1:  Loss:     0.0166 Validation Accuracy: 0.649000\n",
      "Epoch 32, CIFAR-10 Batch 2:  Loss:     0.0143 Validation Accuracy: 0.655000\n",
      "Epoch 32, CIFAR-10 Batch 3:  Loss:     0.0165 Validation Accuracy: 0.648200\n",
      "Epoch 32, CIFAR-10 Batch 4:  Loss:     0.0119 Validation Accuracy: 0.655800\n",
      "Epoch 32, CIFAR-10 Batch 5:  Loss:     0.0047 Validation Accuracy: 0.647800\n",
      "Epoch 33, CIFAR-10 Batch 1:  Loss:     0.0161 Validation Accuracy: 0.658600\n",
      "Epoch 33, CIFAR-10 Batch 2:  Loss:     0.0227 Validation Accuracy: 0.641600\n",
      "Epoch 33, CIFAR-10 Batch 3:  Loss:     0.0139 Validation Accuracy: 0.651400\n",
      "Epoch 33, CIFAR-10 Batch 4:  Loss:     0.0157 Validation Accuracy: 0.649400\n",
      "Epoch 33, CIFAR-10 Batch 5:  Loss:     0.0070 Validation Accuracy: 0.651400\n",
      "Epoch 34, CIFAR-10 Batch 1:  Loss:     0.0114 Validation Accuracy: 0.653400\n",
      "Epoch 34, CIFAR-10 Batch 2:  Loss:     0.0136 Validation Accuracy: 0.647000\n",
      "Epoch 34, CIFAR-10 Batch 3:  Loss:     0.0062 Validation Accuracy: 0.655200\n",
      "Epoch 34, CIFAR-10 Batch 4:  Loss:     0.0143 Validation Accuracy: 0.643600\n",
      "Epoch 34, CIFAR-10 Batch 5:  Loss:     0.0076 Validation Accuracy: 0.644000\n",
      "Epoch 35, CIFAR-10 Batch 1:  Loss:     0.0125 Validation Accuracy: 0.644800\n",
      "Epoch 35, CIFAR-10 Batch 2:  Loss:     0.0103 Validation Accuracy: 0.648600\n",
      "Epoch 35, CIFAR-10 Batch 3:  Loss:     0.0078 Validation Accuracy: 0.656600\n",
      "Epoch 35, CIFAR-10 Batch 4:  Loss:     0.0120 Validation Accuracy: 0.647400\n",
      "Epoch 35, CIFAR-10 Batch 5:  Loss:     0.0103 Validation Accuracy: 0.640400\n"
     ]
    }
   ],
   "source": [
    "\"\"\"\n",
    "DON'T MODIFY ANYTHING IN THIS CELL\n",
    "\"\"\"\n",
    "save_model_path = './image_classification'\n",
    "\n",
    "print('Training...')\n",
    "with tf.Session() as sess:\n",
    "    # Initializing the variables\n",
    "    sess.run(tf.global_variables_initializer())\n",
    "    \n",
    "    # Training cycle\n",
    "    for epoch in range(epochs):\n",
    "        # Loop over all batches\n",
    "        n_batches = 5\n",
    "        for batch_i in range(1, n_batches + 1):\n",
    "            for batch_features, batch_labels in helper.load_preprocess_training_batch(batch_i, batch_size):\n",
    "                train_neural_network(sess, optimizer, keep_probability, batch_features, batch_labels)\n",
    "            print('Epoch {:>2}, CIFAR-10 Batch {}:  '.format(epoch + 1, batch_i), end='')\n",
    "            print_stats(sess, batch_features, batch_labels, cost, accuracy)\n",
    "            \n",
    "    # Save Model\n",
    "    saver = tf.train.Saver()\n",
    "    save_path = saver.save(sess, save_model_path)"
   ]
  },
  {
   "cell_type": "markdown",
   "metadata": {
    "deletable": true,
    "editable": true
   },
   "source": [
    "# Checkpoint\n",
    "The model has been saved to disk.\n",
    "## Test Model\n",
    "Test your model against the test dataset.  This will be your final accuracy. You should have an accuracy greater than 50%. If you don't, keep tweaking the model architecture and parameters."
   ]
  },
  {
   "cell_type": "code",
   "execution_count": 183,
   "metadata": {
    "collapsed": false,
    "deletable": true,
    "editable": true
   },
   "outputs": [
    {
     "name": "stdout",
     "output_type": "stream",
     "text": [
      "Testing Accuracy: 0.64052734375\n",
      "\n"
     ]
    },
    {
     "data": {
      "image/png": "[encoded data removed]",
      "text/plain": [
       "<matplotlib.figure.Figure at 0x7f8769156ef0>"
      ]
     },
     "metadata": {
      "image/png": {
       "height": 319,
       "width": 355
      }
     },
     "output_type": "display_data"
    }
   ],
   "source": [
    "\"\"\"\n",
    "DON'T MODIFY ANYTHING IN THIS CELL\n",
    "\"\"\"\n",
    "%matplotlib inline\n",
    "%config InlineBackend.figure_format = 'retina'\n",
    "\n",
    "import tensorflow as tf\n",
    "import pickle\n",
    "import helper\n",
    "import random\n",
    "\n",
    "# Set batch size if not already set\n",
    "try:\n",
    "    if batch_size:\n",
    "        pass\n",
    "except NameError:\n",
    "    batch_size = 64\n",
    "\n",
    "save_model_path = './image_classification'\n",
    "n_samples = 4\n",
    "top_n_predictions = 3\n",
    "\n",
    "def test_model():\n",
    "    \"\"\"\n",
    "    Test the saved model against the test dataset\n",
    "    \"\"\"\n",
    "\n",
    "    test_features, test_labels = pickle.load(open('preprocess_training.p', mode='rb'))\n",
    "    loaded_graph = tf.Graph()\n",
    "\n",
    "    with tf.Session(graph=loaded_graph) as sess:\n",
    "        # Load model\n",
    "        loader = tf.train.import_meta_graph(save_model_path + '.meta')\n",
    "        loader.restore(sess, save_model_path)\n",
    "\n",
    "        # Get Tensors from loaded model\n",
    "        loaded_x = loaded_graph.get_tensor_by_name('x:0')\n",
    "        loaded_y = loaded_graph.get_tensor_by_name('y:0')\n",
    "        loaded_keep_prob = loaded_graph.get_tensor_by_name('keep_prob:0')\n",
    "        loaded_logits = loaded_graph.get_tensor_by_name('logits:0')\n",
    "        loaded_acc = loaded_graph.get_tensor_by_name('accuracy:0')\n",
    "        \n",
    "        # Get accuracy in batches for memory limitations\n",
    "        test_batch_acc_total = 0\n",
    "        test_batch_count = 0\n",
    "        \n",
    "        for train_feature_batch, train_label_batch in helper.batch_features_labels(test_features, test_labels, batch_size):\n",
    "            test_batch_acc_total += sess.run(\n",
    "                loaded_acc,\n",
    "                feed_dict={loaded_x: train_feature_batch, loaded_y: train_label_batch, loaded_keep_prob: 1.0})\n",
    "            test_batch_count += 1\n",
    "\n",
    "        print('Testing Accuracy: {}\\n'.format(test_batch_acc_total/test_batch_count))\n",
    "\n",
    "        # Print Random Samples\n",
    "        random_test_features, random_test_labels = tuple(zip(*random.sample(list(zip(test_features, test_labels)), n_samples)))\n",
    "        random_test_predictions = sess.run(\n",
    "            tf.nn.top_k(tf.nn.softmax(loaded_logits), top_n_predictions),\n",
    "            feed_dict={loaded_x: random_test_features, loaded_y: random_test_labels, loaded_keep_prob: 1.0})\n",
    "        helper.display_image_predictions(random_test_features, random_test_labels, random_test_predictions)\n",
    "\n",
    "\n",
    "test_model()"
   ]
  },
  {
   "cell_type": "markdown",
   "metadata": {
    "deletable": true,
    "editable": true
   },
   "source": [
    "## Why 50-70% Accuracy?\n",
    "You might be wondering why you can't get an accuracy any higher. First things first, 50% isn't bad for a simple CNN.  Pure guessing would get you 10% accuracy. However, you might notice people are getting scores [well above 70%](http://rodrigob.github.io/are_we_there_yet/build/classification_datasets_results.html#43494641522d3130).  That's because we haven't taught you all there is to know about neural networks. We still need to cover a few more techniques.\n",
    "## Submitting This Project\n",
    "When submitting this project, make sure to run all the cells before saving the notebook.  Save the notebook file as \"dlnd_image_classification.ipynb\" and save it as a HTML file under \"File\" -> \"Download as\".  Include the \"helper.py\" and \"problem_unittests.py\" files in your submission."
   ]
  },
  {
   "cell_type": "code",
   "execution_count": null,
   "metadata": {
    "collapsed": true,
    "deletable": true,
    "editable": true
   },
   "outputs": [],
   "source": []
  }
 ],
 "metadata": {
  "kernelspec": {
   "display_name": "Python 3",
   "language": "python",
   "name": "python3"
  },
  "language_info": {
   "codemirror_mode": {
    "name": "ipython",
    "version": 3
   },
   "file_extension": ".py",
   "mimetype": "text/x-python",
   "name": "python",
   "nbconvert_exporter": "python",
   "pygments_lexer": "ipython3",
   "version": "3.5.2"
  },
  "widgets": {
   "state": {},
   "version": "1.1.2"
  }
 },
 "nbformat": 4,
 "nbformat_minor": 0
}
